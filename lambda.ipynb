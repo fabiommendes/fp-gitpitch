{
 "cells": [
  {
   "cell_type": "code",
   "execution_count": 2,
   "metadata": {},
   "outputs": [],
   "source": [
    "# Programação funcional extremista\n",
    "fat = (\n",
    "    lambda f: lambda x: \n",
    "        f(f, x))((\n",
    "        lambda f, n: \n",
    "        (lambda cond, then, else_: cond(then, else_))\n",
    "        ((lambda n: n(lambda _: \n",
    "                      lambda a, b: b(), \n",
    "                      lambda a, b: a()))(n), \n",
    "             lambda: lambda f, x: f(x), \n",
    "             lambda: \n",
    "                 (lambda n, m: lambda f, x: n(lambda y: m(f, y), x))\n",
    "                 (n, \n",
    "                  f(f, \n",
    "                    ((lambda n:\n",
    "                      lambda f, x: \n",
    "                      (lambda k: k(lambda a: a))\n",
    "                      (n(lambda g: lambda h: h(g(f)), \n",
    "                         lambda y: x))))(n))))))"
   ]
  },
  {
   "cell_type": "code",
   "execution_count": 3,
   "metadata": {},
   "outputs": [
    {
     "data": {
      "text/plain": [
       "'........................................................................................................................'"
      ]
     },
     "execution_count": 3,
     "metadata": {},
     "output_type": "execute_result"
    }
   ],
   "source": [
    "# Números são codificados como funções\n",
    "five = lambda f, x: f(f(f(f(f(x)))))\n",
    "\n",
    "# Podemos usar diferentes representações\n",
    "fat(five)(lambda x: x + 1, 0) # --> 120 \n",
    "fat(five)(lambda x: f\".{x}\", \"\") # --> \"......\" (120 vezes) "
   ]
  },
  {
   "cell_type": "code",
   "execution_count": 4,
   "metadata": {},
   "outputs": [
    {
     "data": {
      "text/plain": [
       "120"
      ]
     },
     "execution_count": 4,
     "metadata": {},
     "output_type": "execute_result"
    }
   ],
   "source": [
    "true = lambda a: lambda b: a()\n",
    "false = lambda a: lambda b: b()\n",
    "ifte = lambda cond: lambda then: lambda else_: cond(then)(else_)\n",
    "identity = lambda x: x\n",
    "\n",
    "succ = lambda n: lambda f: lambda x: n(f)(f(x))\n",
    "zero = lambda f: lambda x: x\n",
    "one = lambda f: lambda x: f(x)\n",
    "\n",
    "iszero = lambda n: n(lambda _: false)(true)\n",
    "mul = lambda n: lambda m: lambda f: lambda x: n(m(f))(x)\n",
    "pred = lambda n: lambda f: lambda x: extract(n(inc(f))(const(x)))\n",
    "\n",
    "const = lambda cte: lambda x: cte\n",
    "inc = lambda f: lambda g: lambda h: h(g(f))\n",
    "extract = lambda k: k(lambda a: a)\n",
    "\n",
    "rec = lambda f: lambda x: f(f)(x)\n",
    "fat = rec(\n",
    "    lambda f: lambda n: \n",
    "    ifte(iszero(n)) \n",
    "        (lambda: one)\n",
    "        (lambda: mul(n)(f(f)(pred(n))))\n",
    "    )\n",
    "\n",
    "pynumber = lambda n: n(lambda x: x + 1)(0)\n",
    "pybool = lambda n: n is true\n",
    "pynumber(fat(succ(succ(succ(succ(one))))))"
   ]
  },
  {
   "cell_type": "code",
   "execution_count": 5,
   "metadata": {},
   "outputs": [],
   "source": [
    "def zero(f, x):\n",
    "    return x\n",
    "\n",
    "def five(f, x):\n",
    "    return f(f(f(f(f(x)))))\n",
    "\n",
    "def succ(n):\n",
    "    def next_number(f, x):\n",
    "        y = f(x)\n",
    "        return n(f, y)\n",
    "    return next_number\n",
    "\n",
    "def pred(n):\n",
    "    ...\n",
    "\n",
    "def mul(n, m):\n",
    "    ...\n",
    "\n",
    "def add(n, m):\n",
    "    ...\n",
    "    \n",
    "# etc..."
   ]
  },
  {
   "cell_type": "code",
   "execution_count": null,
   "metadata": {},
   "outputs": [],
   "source": []
  }
 ],
 "metadata": {
  "kernelspec": {
   "display_name": "Python 3",
   "language": "python",
   "name": "python3"
  },
  "language_info": {
   "codemirror_mode": {
    "name": "ipython",
    "version": 3
   },
   "file_extension": ".py",
   "mimetype": "text/x-python",
   "name": "python",
   "nbconvert_exporter": "python",
   "pygments_lexer": "ipython3",
   "version": "3.7.0"
  }
 },
 "nbformat": 4,
 "nbformat_minor": 2
}
