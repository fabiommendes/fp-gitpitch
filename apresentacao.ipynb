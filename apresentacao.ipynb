{
 "cells": [
  {
   "cell_type": "markdown",
   "metadata": {
    "hideCode": false,
    "hidePrompt": false
   },
   "source": [
    "## Atenção! Você precisa de Python 3.6+ para esta apresentação funcionar"
   ]
  },
  {
   "cell_type": "markdown",
   "metadata": {
    "hideCode": false,
    "hidePrompt": false
   },
   "source": [
    "## Guia\n",
    "\n",
    "1. Decoradores\n",
    "    - Anotação de tipos em funções\n",
    "    - Checagem estática com decoradores\n",
    "2. Classes\n",
    "    - Classes de-sugar\n",
    "    - Metaclasses\n",
    "    - Método `__prepare__`\n",
    "    - Dicionários personalizados\n",
    "3. `__annotations__`\n",
    "    - Lendo as anotações de tipo\n",
    "    - Checagem estática\n",
    "    - Instancecheck\n",
    "4. Módulo typing\n",
    "    - Checagem estática\n",
    "5. Módulo forbidden fruit\n",
    "    - Modificando attributos de tipos builtin\n",
    "    - Ignorando invariantes do Python\n",
    "    - Destruindo o interpretador\n",
    "6. Ctypes\n",
    "    - Modificando coisas proibidas\n",
    "    - 42 == 666"
   ]
  },
  {
   "cell_type": "markdown",
   "metadata": {
    "hideCode": false,
    "hidePrompt": false
   },
   "source": [
    "## Decorador"
   ]
  },
  {
   "cell_type": "code",
   "execution_count": 109,
   "metadata": {
    "hideCode": false,
    "hidePrompt": false
   },
   "outputs": [],
   "source": [
    "def call_with(*args, **kwargs):\n",
    "    def decorator(func):\n",
    "        return func(*args, **kwargs)\n",
    "    return decorator"
   ]
  },
  {
   "cell_type": "code",
   "execution_count": 110,
   "metadata": {
    "hideCode": false,
    "hidePrompt": false
   },
   "outputs": [
    {
     "data": {
      "text/plain": [
       "42"
      ]
     },
     "execution_count": 110,
     "metadata": {},
     "output_type": "execute_result"
    }
   ],
   "source": [
    "@call_with()\n",
    "def the_answer():\n",
    "    return 42\n",
    "\n",
    "the_answer"
   ]
  },
  {
   "cell_type": "code",
   "execution_count": 111,
   "metadata": {
    "hideCode": false,
    "hidePrompt": false
   },
   "outputs": [
    {
     "data": {
      "text/plain": [
       "{'x': int, 'y': int, 'return': int}"
      ]
     },
     "execution_count": 111,
     "metadata": {},
     "output_type": "execute_result"
    }
   ],
   "source": [
    "def add(x: int, y: int) -> int:\n",
    "    return x + y\n",
    "\n",
    "add.__annotations__"
   ]
  },
  {
   "cell_type": "code",
   "execution_count": 112,
   "metadata": {
    "hideCode": false,
    "hidePrompt": false
   },
   "outputs": [],
   "source": [
    "def check_input(args, types):\n",
    "    for x, tt in zip(args, types):\n",
    "        if not isinstance(x, tt):\n",
    "            raise TypeError(f'got {x.__class__.__name__}, expect {tt.__name__}')\n",
    "\n",
    "def checked_result(value, tt):\n",
    "    if not isinstance(value, tt):\n",
    "        raise TypeError\n",
    "    return value\n",
    "            \n",
    "    \n",
    "def static(func):\n",
    "    types = [func.__annotations__[k] for k in func.__code__.co_varnames]\n",
    "    restype = func.__annotations__.get('result', object)\n",
    "\n",
    "    def wrapped(*args):\n",
    "        check_input(args, types)\n",
    "        result = func(*args)\n",
    "        return checked_result(result, restype)\n",
    "    \n",
    "    return wrapped"
   ]
  },
  {
   "cell_type": "code",
   "execution_count": 113,
   "metadata": {
    "hideCode": false,
    "hidePrompt": false
   },
   "outputs": [],
   "source": [
    "add_ = static(add)"
   ]
  },
  {
   "cell_type": "code",
   "execution_count": 114,
   "metadata": {
    "hideCode": false,
    "hidePrompt": false
   },
   "outputs": [
    {
     "ename": "TypeError",
     "evalue": "got float, expect int",
     "output_type": "error",
     "traceback": [
      "\u001b[0;31m---------------------------------------------------------------------------\u001b[0m",
      "\u001b[0;31mTypeError\u001b[0m                                 Traceback (most recent call last)",
      "\u001b[0;32m<ipython-input-114-de61d6fd5821>\u001b[0m in \u001b[0;36m<module>\u001b[0;34m()\u001b[0m\n\u001b[0;32m----> 1\u001b[0;31m \u001b[0madd_\u001b[0m\u001b[0;34m(\u001b[0m\u001b[0;36m2\u001b[0m\u001b[0;34m,\u001b[0m \u001b[0;36m2.2\u001b[0m\u001b[0;34m)\u001b[0m\u001b[0;34m\u001b[0m\u001b[0m\n\u001b[0m",
      "\u001b[0;32m<ipython-input-112-f0f6d75d0fbb>\u001b[0m in \u001b[0;36mwrapped\u001b[0;34m(*args)\u001b[0m\n\u001b[1;32m     15\u001b[0m \u001b[0;34m\u001b[0m\u001b[0m\n\u001b[1;32m     16\u001b[0m     \u001b[0;32mdef\u001b[0m \u001b[0mwrapped\u001b[0m\u001b[0;34m(\u001b[0m\u001b[0;34m*\u001b[0m\u001b[0margs\u001b[0m\u001b[0;34m)\u001b[0m\u001b[0;34m:\u001b[0m\u001b[0;34m\u001b[0m\u001b[0m\n\u001b[0;32m---> 17\u001b[0;31m         \u001b[0mcheck_input\u001b[0m\u001b[0;34m(\u001b[0m\u001b[0margs\u001b[0m\u001b[0;34m,\u001b[0m \u001b[0mtypes\u001b[0m\u001b[0;34m)\u001b[0m\u001b[0;34m\u001b[0m\u001b[0m\n\u001b[0m\u001b[1;32m     18\u001b[0m         \u001b[0mresult\u001b[0m \u001b[0;34m=\u001b[0m \u001b[0mfunc\u001b[0m\u001b[0;34m(\u001b[0m\u001b[0;34m*\u001b[0m\u001b[0margs\u001b[0m\u001b[0;34m)\u001b[0m\u001b[0;34m\u001b[0m\u001b[0m\n\u001b[1;32m     19\u001b[0m         \u001b[0;32mreturn\u001b[0m \u001b[0mchecked_result\u001b[0m\u001b[0;34m(\u001b[0m\u001b[0mresult\u001b[0m\u001b[0;34m,\u001b[0m \u001b[0mrestype\u001b[0m\u001b[0;34m)\u001b[0m\u001b[0;34m\u001b[0m\u001b[0m\n",
      "\u001b[0;32m<ipython-input-112-f0f6d75d0fbb>\u001b[0m in \u001b[0;36mcheck_input\u001b[0;34m(args, types)\u001b[0m\n\u001b[1;32m      2\u001b[0m     \u001b[0;32mfor\u001b[0m \u001b[0mx\u001b[0m\u001b[0;34m,\u001b[0m \u001b[0mtt\u001b[0m \u001b[0;32min\u001b[0m \u001b[0mzip\u001b[0m\u001b[0;34m(\u001b[0m\u001b[0margs\u001b[0m\u001b[0;34m,\u001b[0m \u001b[0mtypes\u001b[0m\u001b[0;34m)\u001b[0m\u001b[0;34m:\u001b[0m\u001b[0;34m\u001b[0m\u001b[0m\n\u001b[1;32m      3\u001b[0m         \u001b[0;32mif\u001b[0m \u001b[0;32mnot\u001b[0m \u001b[0misinstance\u001b[0m\u001b[0;34m(\u001b[0m\u001b[0mx\u001b[0m\u001b[0;34m,\u001b[0m \u001b[0mtt\u001b[0m\u001b[0;34m)\u001b[0m\u001b[0;34m:\u001b[0m\u001b[0;34m\u001b[0m\u001b[0m\n\u001b[0;32m----> 4\u001b[0;31m             \u001b[0;32mraise\u001b[0m \u001b[0mTypeError\u001b[0m\u001b[0;34m(\u001b[0m\u001b[0;34mf'got {x.__class__.__name__}, expect {tt.__name__}'\u001b[0m\u001b[0;34m)\u001b[0m\u001b[0;34m\u001b[0m\u001b[0m\n\u001b[0m\u001b[1;32m      5\u001b[0m \u001b[0;34m\u001b[0m\u001b[0m\n\u001b[1;32m      6\u001b[0m \u001b[0;32mdef\u001b[0m \u001b[0mchecked_result\u001b[0m\u001b[0;34m(\u001b[0m\u001b[0mvalue\u001b[0m\u001b[0;34m,\u001b[0m \u001b[0mtt\u001b[0m\u001b[0;34m)\u001b[0m\u001b[0;34m:\u001b[0m\u001b[0;34m\u001b[0m\u001b[0m\n",
      "\u001b[0;31mTypeError\u001b[0m: got float, expect int"
     ]
    }
   ],
   "source": [
    "add_(2, 2.2)"
   ]
  },
  {
   "cell_type": "markdown",
   "metadata": {
    "hideCode": false,
    "hidePrompt": false
   },
   "source": [
    "## Classes"
   ]
  },
  {
   "cell_type": "code",
   "execution_count": 115,
   "metadata": {
    "hideCode": false,
    "hidePrompt": false
   },
   "outputs": [],
   "source": [
    "class MyClass(object):\n",
    "    cte = 42\n",
    "    \n",
    "    def f(self, x):\n",
    "        return x % self.cte"
   ]
  },
  {
   "cell_type": "code",
   "execution_count": 116,
   "metadata": {
    "hideCode": false,
    "hidePrompt": false
   },
   "outputs": [],
   "source": [
    "attribs = {'cte': 42, 'f': lambda self, x: x % self.cte}\n",
    "MyClass2 = type('MyClass2', (object,), attribs)"
   ]
  },
  {
   "cell_type": "code",
   "execution_count": 117,
   "metadata": {
    "hideCode": false,
    "hidePrompt": false
   },
   "outputs": [],
   "source": [
    "a = MyClass()\n",
    "b = MyClass2()"
   ]
  },
  {
   "cell_type": "code",
   "execution_count": 118,
   "metadata": {
    "hideCode": false,
    "hidePrompt": false
   },
   "outputs": [
    {
     "data": {
      "text/plain": [
       "(16, 16)"
      ]
     },
     "execution_count": 118,
     "metadata": {},
     "output_type": "execute_result"
    }
   ],
   "source": [
    "a.f(100), b.f(100)"
   ]
  },
  {
   "cell_type": "code",
   "execution_count": 119,
   "metadata": {
    "hideCode": false,
    "hidePrompt": false
   },
   "outputs": [],
   "source": [
    "from collections import Mapping\n",
    "\n",
    "class Metaclass(type):\n",
    "    def __new__(cls, name, bases, ns):\n",
    "        ns = {k: v for k, v in ns.items() if not k.startswith('_')}\n",
    "        return ns\n",
    "        \n",
    "    def __init__(self, name, bases, ns):\n",
    "        print(f'Criando classe {name}')\n",
    "        super().__init__(name, bases, ns)\n",
    "        \n",
    "    def __prepare__(name, bases):\n",
    "        def set_variable(key, value):\n",
    "            cls = annotations.get(key, object)\n",
    "            \n",
    "            if not isinstance(value, cls):\n",
    "                raise TypeError(f'{key} is a {type(value)}, expect {cls}')\n",
    "                \n",
    "            if not key.startswith('_'):\n",
    "                print(f'{key} = {value!r}')\n",
    "        \n",
    "        def set_annotation(key, value):\n",
    "            print(f'{key}: {value!r}')\n",
    "        \n",
    "        ns = ObsDict(fset=set_variable)\n",
    "        annotations = ns['__annotations__'] = ObsDict(fset=set_annotation)\n",
    "        return ns\n",
    "        \n",
    "\n",
    "class ObsDict(dict):\n",
    "    def __init__(self, fset=lambda k, v: None, fget=lambda k: None):\n",
    "        self.fget = fget\n",
    "        self.fset = fset\n",
    "        \n",
    "    def __setitem__(self, key, value):\n",
    "        self.fset(key, value)\n",
    "        dict.__setitem__(self, key, value)\n",
    "        \n",
    "    def __getitem__(self, key):\n",
    "        self.fget(key)\n",
    "        return dict.__getitem__(self, key)"
   ]
  },
  {
   "cell_type": "code",
   "execution_count": 120,
   "metadata": {
    "hideCode": false,
    "hidePrompt": false
   },
   "outputs": [
    {
     "name": "stdout",
     "output_type": "stream",
     "text": [
      "x = 1\n",
      "x: <class 'int'>\n",
      "y = 1\n",
      "y: <class 'int'>\n",
      "x = 1\n",
      "y = 2\n",
      "x = 2\n",
      "y = 3\n",
      "x = 3\n",
      "y = 5\n",
      "x = 5\n",
      "y = 8\n",
      "x = 8\n",
      "y = 13\n",
      "x = 13\n",
      "y = 21\n",
      "x = 21\n",
      "y = 34\n",
      "x = 34\n",
      "y = 55\n",
      "x = 55\n",
      "y = 89\n",
      "x = 89\n",
      "y = 144\n",
      "result = 144\n",
      "{'x': 89, 'y': 144, 'result': 144}\n"
     ]
    }
   ],
   "source": [
    "@print\n",
    "class Foo(metaclass=Metaclass):\n",
    "    x:int = 1\n",
    "    y:int = 1\n",
    "    for _ in range(10):\n",
    "        x, y = y, x + y\n",
    "        \n",
    "    result = y"
   ]
  },
  {
   "cell_type": "code",
   "execution_count": 121,
   "metadata": {
    "hideCode": false,
    "hidePrompt": false
   },
   "outputs": [],
   "source": [
    "import sys\n",
    "f = sys._getframe()\n"
   ]
  },
  {
   "cell_type": "code",
   "execution_count": 55,
   "metadata": {
    "hideCode": false,
    "hidePrompt": false
   },
   "outputs": [
    {
     "data": {
      "text/plain": [
       "{'__name__': '__main__',\n",
       " '__doc__': 'Automatically created module for IPython interactive environment',\n",
       " '__package__': None,\n",
       " '__loader__': None,\n",
       " '__spec__': None,\n",
       " '__builtin__': <module 'builtins' (built-in)>,\n",
       " '__builtins__': <module 'builtins' (built-in)>,\n",
       " '_ih': ['',\n",
       "  'class MyClass(object):\\n    cte = 42\\n    \\n    def mod(self, x):\\n        return x % self.cte',\n",
       "  'class MyClass(object):\\n    cte = 42\\n    \\n    def mod(self, x):\\n        return x % self.cte',\n",
       "  'class MyClass(object):\\n    cte = 42\\n    \\n    def mod(self, x):\\n        return x % self.cte',\n",
       "  'class MyClass(object):\\n    cte = 42\\n    \\n    def mod(self, x):\\n        return x % self.cte',\n",
       "  \"attribs = {'cte': 42, 'mod': lambda self, x: x % self.cte}\\nMyClass2 = type('MyClass2', (object,), attribs)\",\n",
       "  'a = MyClass()\\nb = MyClass2()',\n",
       "  'a.mod(100), b.mod(100)',\n",
       "  \"attribs = {'cte': 42, 'f': lambda self, x: x % self.cte}\\nMyClass2 = type('MyClass2', (object,), attribs)\",\n",
       "  'class MyClass(object):\\n    cte = 42\\n    \\n    def f(self, x):\\n        return x % self.cte',\n",
       "  \"attribs = {'cte': 42, 'f': lambda self, x: x % self.cte}\\nMyClass2 = type('MyClass2', (object,), attribs)\",\n",
       "  'a = MyClass()\\nb = MyClass2()',\n",
       "  'a.f(100), b.f(100)',\n",
       "  \"from collections import Mapping\\n\\nclass Metaclass(type):\\n    def __new__(cls, name, bases, ns):\\n        ns = {k: v for k, v in ns.items() if not k.startswith('_')}\\n        return ns\\n        \\n    def __init__(self, name, bases, ns):\\n        print(f'Criando classe {name}')\\n        super().__init__(name, bases, ns)\\n        \\n    def __prepare__(name, bases):\\n        def set_variable(key, value):\\n            cls = annotations.get(key, object)\\n            \\n            if not isinstance(value, cls):\\n                raise TypeError(f'{key} is a {type(value)}, expect {cls}')\\n                \\n            if not key.startswith('_'):\\n                print(f'{key} = {value!r}')\\n        \\n        def set_annotation(key, value):\\n            print(f'{key}: {value!r}')\\n        \\n        ns = ObsDict(fset=set_variable)\\n        annotations = ns['__annotations__'] = ObsDict(fset=set_annotation)\\n        return ns\\n        \\n\\nclass ObsDict(dict):\\n    def __init__(self, fset=lambda k, v: None, fget=lambda k: None):\\n        self.fget = fget\\n        self.fset = fset\\n        \\n    def __setitem__(self, key, value):\\n        self.fset(key, value)\\n        dict.__setitem__(self, key, value)\\n        \\n    def __getitem__(self, key):\\n        self.fget(key)\\n        return dict.__getitem__(self, key)\",\n",
       "  '@call_with()\\ndef the_answer():\\n    return 42',\n",
       "  'def call_with(*args, **kwargs):\\n    def decorator(func):\\n        return func(*args, **kwargs)\\n    return decorator',\n",
       "  '@call_with()\\ndef the_answer():\\n    return 42',\n",
       "  '@call_with()\\ndef the_answer():\\n    return 42\\n\\nthe_answer',\n",
       "  'def add(x: int, y: int) -> int:\\n    return x + y',\n",
       "  'import inspect\\n\\nsig = inspect.signature(add)\\nprint(sg)',\n",
       "  'import inspect\\n\\nsig = inspect.signature(add)\\nprint(sig)',\n",
       "  'add.__annotations__',\n",
       "  'add.__code__.co_names',\n",
       "  'add.__code__.co_varnames',\n",
       "  'def add(x: int, y: int) -> int:\\n    return x + y\\n\\nadd.__signature__',\n",
       "  'def add(x: int, y: int) -> int:\\n    return x + y\\n\\nadd.__annotations__',\n",
       "  'def check_input(types, args):\\n    for x, tt in zip(args, types):\\n        if not isinstance(x, tt):\\n            raise TypeError\\n            \\ninput_types = [add.__annotations__[k] for k in add.__code__.co_varnames]',\n",
       "  'def check_input(types, args):\\n    for x, tt in zip(args, types):\\n        if not isinstance(x, tt):\\n            raise TypeError\\n            \\n[add.__annotations__[k] for k in add.__code__.co_varnames]',\n",
       "  \"import functools\\n\\ndef check_types(func):\\n    if not func.__annotations__:\\n        return func\\n    \\n    sig = inspect.signature(func)\\n    argtypes = tuple(p.annotation for p in sig.parameters.values())\\n    restype = sig.return_annotation\\n    \\n    @functools.wraps(func)\\n    def wrapped(*args):\\n        if not all(isinstance(x, tt) for (x, tt) in zip(args, argtypes)):\\n            raise TypeError(f'invalid input args: {args}')\\n        result = func(*args)\\n        if not isinstance(result, restype):\\n            raise TypeError(f'invalid result type: {restype}')\\n        return result\\n    \\n    return wrapped\",\n",
       "  'def check_input(types, args):\\n    for x, tt in zip(args, types):\\n        if not isinstance(x, tt):\\n            raise TypeError\\n \\nfunc = add\\n[func.__annotations__[k] for k in func.__code__.co_varnames]',\n",
       "  \"def check_input(args, types):\\n    for x, tt in zip(args, types):\\n        if not isinstance(x, tt):\\n            raise TypeError\\n\\ndef checked_result(value, tt):\\n    if not isinstance(value, tt):\\n        raise TypeError\\n    return value\\n            \\ntypes = [func.__annotations__[k] for k in func.__code__.co_varnames]\\nrestype = func.__anotations__.get('result', object)\\n\\ndef wrapped(*args):\\n    check_input(args, types)\\n    result = func(*args)\\n    return checked_result(result, restype)\",\n",
       "  \"def check_input(args, types):\\n    for x, tt in zip(args, types):\\n        if not isinstance(x, tt):\\n            raise TypeError\\n\\ndef checked_result(value, tt):\\n    if not isinstance(value, tt):\\n        raise TypeError\\n    return value\\n            \\ntypes = [func.__annotations__[k] for k in func.__code__.co_varnames]\\nrestype = func.__annotations__.get('result', object)\\n\\ndef wrapped(*args):\\n    check_input(args, types)\\n    result = func(*args)\\n    return checked_result(result, restype)\",\n",
       "  \"def check_input(args, types):\\n    for x, tt in zip(args, types):\\n        if not isinstance(x, tt):\\n            raise TypeError\\n\\ndef checked_result(value, tt):\\n    if not isinstance(value, tt):\\n        raise TypeError\\n    return value\\n            \\n    \\ndef static(func):\\n    types = [func.__annotations__[k] for k in func.__code__.co_varnames]\\n    restype = func.__annotations__.get('result', object)\\n\\n    def wrapped(*args):\\n        check_input(args, types)\\n        result = func(*args)\\n        return checked_result(result, restype)\\n    \\n    return static\",\n",
       "  'add_ = static(add)',\n",
       "  'add_(2.3, 2)',\n",
       "  'add_(2, 2)',\n",
       "  \"def check_input(args, types):\\n    for x, tt in zip(args, types):\\n        if not isinstance(x, tt):\\n            raise TypeError\\n\\ndef checked_result(value, tt):\\n    if not isinstance(value, tt):\\n        raise TypeError\\n    return value\\n            \\n    \\ndef static(func):\\n    types = [func.__annotations__[k] for k in func.__code__.co_varnames]\\n    restype = func.__annotations__.get('result', object)\\n\\n    def wrapped(*args):\\n        check_input(args, types)\\n        result = func(*args)\\n        return checked_result(result, restype)\\n    \\n    return wrapped\",\n",
       "  'add_ = static(add)',\n",
       "  'add_(2, 2)',\n",
       "  'add_(2, 2.2)',\n",
       "  \"def check_input(args, types):\\n    for x, tt in zip(args, types):\\n        if not isinstance(x, tt):\\n            raise TypeError(f'expect {x.__class__.__name__}, got {tt.__name__}')\\n\\ndef checked_result(value, tt):\\n    if not isinstance(value, tt):\\n        raise TypeError\\n    return value\\n            \\n    \\ndef static(func):\\n    types = [func.__annotations__[k] for k in func.__code__.co_varnames]\\n    restype = func.__annotations__.get('result', object)\\n\\n    def wrapped(*args):\\n        check_input(args, types)\\n        result = func(*args)\\n        return checked_result(result, restype)\\n    \\n    return wrapped\",\n",
       "  'add_ = static(add)',\n",
       "  'add_(2, 2.2)',\n",
       "  'add_(2, 2.2)',\n",
       "  \"def check_input(args, types):\\n    for x, tt in zip(args, types):\\n        if not isinstance(x, tt):\\n            raise TypeError(f'got {x.__class__.__name__}, expect {tt.__name__}')\\n\\ndef checked_result(value, tt):\\n    if not isinstance(value, tt):\\n        raise TypeError\\n    return value\\n            \\n    \\ndef static(func):\\n    types = [func.__annotations__[k] for k in func.__code__.co_varnames]\\n    restype = func.__annotations__.get('result', object)\\n\\n    def wrapped(*args):\\n        check_input(args, types)\\n        result = func(*args)\\n        return checked_result(result, restype)\\n    \\n    return wrapped\",\n",
       "  'add_ = static(add)',\n",
       "  'add_(2, 2.2)',\n",
       "  'class MyClass(object):\\n    cte = 42\\n    \\n    def f(self, x):\\n        return x % self.cte',\n",
       "  'class MyClass(object):\\n    cte = 42\\n    \\n    def f(self, x):\\n        return x % self.cte',\n",
       "  \"attribs = {'cte': 42, 'f': lambda self, x: x % self.cte}\\nMyClass2 = type('MyClass2', (object,), attribs)\",\n",
       "  'a = MyClass()\\nb = MyClass2()',\n",
       "  'a.f(100), b.f(100)',\n",
       "  \"from collections import Mapping\\n\\nclass Metaclass(type):\\n    def __new__(cls, name, bases, ns):\\n        ns = {k: v for k, v in ns.items() if not k.startswith('_')}\\n        return ns\\n        \\n    def __init__(self, name, bases, ns):\\n        print(f'Criando classe {name}')\\n        super().__init__(name, bases, ns)\\n        \\n    def __prepare__(name, bases):\\n        def set_variable(key, value):\\n            cls = annotations.get(key, object)\\n            \\n            if not isinstance(value, cls):\\n                raise TypeError(f'{key} is a {type(value)}, expect {cls}')\\n                \\n            if not key.startswith('_'):\\n                print(f'{key} = {value!r}')\\n        \\n        def set_annotation(key, value):\\n            print(f'{key}: {value!r}')\\n        \\n        ns = ObsDict(fset=set_variable)\\n        annotations = ns['__annotations__'] = ObsDict(fset=set_annotation)\\n        return ns\\n        \\n\\nclass ObsDict(dict):\\n    def __init__(self, fset=lambda k, v: None, fget=lambda k: None):\\n        self.fget = fget\\n        self.fset = fset\\n        \\n    def __setitem__(self, key, value):\\n        self.fset(key, value)\\n        dict.__setitem__(self, key, value)\\n        \\n    def __getitem__(self, key):\\n        self.fget(key)\\n        return dict.__getitem__(self, key)\",\n",
       "  '@print\\nclass Foo(metaclass=Metaclass):\\n    x:int = 1\\n    y:int = 1\\n    for _ in range(10):\\n        x, y = y, x + y\\n        \\n    result = y',\n",
       "  'import sys\\nf = sys._getframe()',\n",
       "  'f.f_locals'],\n",
       " '_oh': {7: (16, 16),\n",
       "  12: (16, 16),\n",
       "  17: 42,\n",
       "  21: {'x': int, 'y': int, 'return': int},\n",
       "  22: (),\n",
       "  23: ('x', 'y'),\n",
       "  25: {'x': int, 'y': int, 'return': int},\n",
       "  27: [int, int],\n",
       "  29: [int, int],\n",
       "  38: 4,\n",
       "  51: (16, 16)},\n",
       " '_dh': ['/home/chips/trabalhos/congressos/python_cerrado/2018/fp-gitpitch'],\n",
       " 'In': ['',\n",
       "  'class MyClass(object):\\n    cte = 42\\n    \\n    def mod(self, x):\\n        return x % self.cte',\n",
       "  'class MyClass(object):\\n    cte = 42\\n    \\n    def mod(self, x):\\n        return x % self.cte',\n",
       "  'class MyClass(object):\\n    cte = 42\\n    \\n    def mod(self, x):\\n        return x % self.cte',\n",
       "  'class MyClass(object):\\n    cte = 42\\n    \\n    def mod(self, x):\\n        return x % self.cte',\n",
       "  \"attribs = {'cte': 42, 'mod': lambda self, x: x % self.cte}\\nMyClass2 = type('MyClass2', (object,), attribs)\",\n",
       "  'a = MyClass()\\nb = MyClass2()',\n",
       "  'a.mod(100), b.mod(100)',\n",
       "  \"attribs = {'cte': 42, 'f': lambda self, x: x % self.cte}\\nMyClass2 = type('MyClass2', (object,), attribs)\",\n",
       "  'class MyClass(object):\\n    cte = 42\\n    \\n    def f(self, x):\\n        return x % self.cte',\n",
       "  \"attribs = {'cte': 42, 'f': lambda self, x: x % self.cte}\\nMyClass2 = type('MyClass2', (object,), attribs)\",\n",
       "  'a = MyClass()\\nb = MyClass2()',\n",
       "  'a.f(100), b.f(100)',\n",
       "  \"from collections import Mapping\\n\\nclass Metaclass(type):\\n    def __new__(cls, name, bases, ns):\\n        ns = {k: v for k, v in ns.items() if not k.startswith('_')}\\n        return ns\\n        \\n    def __init__(self, name, bases, ns):\\n        print(f'Criando classe {name}')\\n        super().__init__(name, bases, ns)\\n        \\n    def __prepare__(name, bases):\\n        def set_variable(key, value):\\n            cls = annotations.get(key, object)\\n            \\n            if not isinstance(value, cls):\\n                raise TypeError(f'{key} is a {type(value)}, expect {cls}')\\n                \\n            if not key.startswith('_'):\\n                print(f'{key} = {value!r}')\\n        \\n        def set_annotation(key, value):\\n            print(f'{key}: {value!r}')\\n        \\n        ns = ObsDict(fset=set_variable)\\n        annotations = ns['__annotations__'] = ObsDict(fset=set_annotation)\\n        return ns\\n        \\n\\nclass ObsDict(dict):\\n    def __init__(self, fset=lambda k, v: None, fget=lambda k: None):\\n        self.fget = fget\\n        self.fset = fset\\n        \\n    def __setitem__(self, key, value):\\n        self.fset(key, value)\\n        dict.__setitem__(self, key, value)\\n        \\n    def __getitem__(self, key):\\n        self.fget(key)\\n        return dict.__getitem__(self, key)\",\n",
       "  '@call_with()\\ndef the_answer():\\n    return 42',\n",
       "  'def call_with(*args, **kwargs):\\n    def decorator(func):\\n        return func(*args, **kwargs)\\n    return decorator',\n",
       "  '@call_with()\\ndef the_answer():\\n    return 42',\n",
       "  '@call_with()\\ndef the_answer():\\n    return 42\\n\\nthe_answer',\n",
       "  'def add(x: int, y: int) -> int:\\n    return x + y',\n",
       "  'import inspect\\n\\nsig = inspect.signature(add)\\nprint(sg)',\n",
       "  'import inspect\\n\\nsig = inspect.signature(add)\\nprint(sig)',\n",
       "  'add.__annotations__',\n",
       "  'add.__code__.co_names',\n",
       "  'add.__code__.co_varnames',\n",
       "  'def add(x: int, y: int) -> int:\\n    return x + y\\n\\nadd.__signature__',\n",
       "  'def add(x: int, y: int) -> int:\\n    return x + y\\n\\nadd.__annotations__',\n",
       "  'def check_input(types, args):\\n    for x, tt in zip(args, types):\\n        if not isinstance(x, tt):\\n            raise TypeError\\n            \\ninput_types = [add.__annotations__[k] for k in add.__code__.co_varnames]',\n",
       "  'def check_input(types, args):\\n    for x, tt in zip(args, types):\\n        if not isinstance(x, tt):\\n            raise TypeError\\n            \\n[add.__annotations__[k] for k in add.__code__.co_varnames]',\n",
       "  \"import functools\\n\\ndef check_types(func):\\n    if not func.__annotations__:\\n        return func\\n    \\n    sig = inspect.signature(func)\\n    argtypes = tuple(p.annotation for p in sig.parameters.values())\\n    restype = sig.return_annotation\\n    \\n    @functools.wraps(func)\\n    def wrapped(*args):\\n        if not all(isinstance(x, tt) for (x, tt) in zip(args, argtypes)):\\n            raise TypeError(f'invalid input args: {args}')\\n        result = func(*args)\\n        if not isinstance(result, restype):\\n            raise TypeError(f'invalid result type: {restype}')\\n        return result\\n    \\n    return wrapped\",\n",
       "  'def check_input(types, args):\\n    for x, tt in zip(args, types):\\n        if not isinstance(x, tt):\\n            raise TypeError\\n \\nfunc = add\\n[func.__annotations__[k] for k in func.__code__.co_varnames]',\n",
       "  \"def check_input(args, types):\\n    for x, tt in zip(args, types):\\n        if not isinstance(x, tt):\\n            raise TypeError\\n\\ndef checked_result(value, tt):\\n    if not isinstance(value, tt):\\n        raise TypeError\\n    return value\\n            \\ntypes = [func.__annotations__[k] for k in func.__code__.co_varnames]\\nrestype = func.__anotations__.get('result', object)\\n\\ndef wrapped(*args):\\n    check_input(args, types)\\n    result = func(*args)\\n    return checked_result(result, restype)\",\n",
       "  \"def check_input(args, types):\\n    for x, tt in zip(args, types):\\n        if not isinstance(x, tt):\\n            raise TypeError\\n\\ndef checked_result(value, tt):\\n    if not isinstance(value, tt):\\n        raise TypeError\\n    return value\\n            \\ntypes = [func.__annotations__[k] for k in func.__code__.co_varnames]\\nrestype = func.__annotations__.get('result', object)\\n\\ndef wrapped(*args):\\n    check_input(args, types)\\n    result = func(*args)\\n    return checked_result(result, restype)\",\n",
       "  \"def check_input(args, types):\\n    for x, tt in zip(args, types):\\n        if not isinstance(x, tt):\\n            raise TypeError\\n\\ndef checked_result(value, tt):\\n    if not isinstance(value, tt):\\n        raise TypeError\\n    return value\\n            \\n    \\ndef static(func):\\n    types = [func.__annotations__[k] for k in func.__code__.co_varnames]\\n    restype = func.__annotations__.get('result', object)\\n\\n    def wrapped(*args):\\n        check_input(args, types)\\n        result = func(*args)\\n        return checked_result(result, restype)\\n    \\n    return static\",\n",
       "  'add_ = static(add)',\n",
       "  'add_(2.3, 2)',\n",
       "  'add_(2, 2)',\n",
       "  \"def check_input(args, types):\\n    for x, tt in zip(args, types):\\n        if not isinstance(x, tt):\\n            raise TypeError\\n\\ndef checked_result(value, tt):\\n    if not isinstance(value, tt):\\n        raise TypeError\\n    return value\\n            \\n    \\ndef static(func):\\n    types = [func.__annotations__[k] for k in func.__code__.co_varnames]\\n    restype = func.__annotations__.get('result', object)\\n\\n    def wrapped(*args):\\n        check_input(args, types)\\n        result = func(*args)\\n        return checked_result(result, restype)\\n    \\n    return wrapped\",\n",
       "  'add_ = static(add)',\n",
       "  'add_(2, 2)',\n",
       "  'add_(2, 2.2)',\n",
       "  \"def check_input(args, types):\\n    for x, tt in zip(args, types):\\n        if not isinstance(x, tt):\\n            raise TypeError(f'expect {x.__class__.__name__}, got {tt.__name__}')\\n\\ndef checked_result(value, tt):\\n    if not isinstance(value, tt):\\n        raise TypeError\\n    return value\\n            \\n    \\ndef static(func):\\n    types = [func.__annotations__[k] for k in func.__code__.co_varnames]\\n    restype = func.__annotations__.get('result', object)\\n\\n    def wrapped(*args):\\n        check_input(args, types)\\n        result = func(*args)\\n        return checked_result(result, restype)\\n    \\n    return wrapped\",\n",
       "  'add_ = static(add)',\n",
       "  'add_(2, 2.2)',\n",
       "  'add_(2, 2.2)',\n",
       "  \"def check_input(args, types):\\n    for x, tt in zip(args, types):\\n        if not isinstance(x, tt):\\n            raise TypeError(f'got {x.__class__.__name__}, expect {tt.__name__}')\\n\\ndef checked_result(value, tt):\\n    if not isinstance(value, tt):\\n        raise TypeError\\n    return value\\n            \\n    \\ndef static(func):\\n    types = [func.__annotations__[k] for k in func.__code__.co_varnames]\\n    restype = func.__annotations__.get('result', object)\\n\\n    def wrapped(*args):\\n        check_input(args, types)\\n        result = func(*args)\\n        return checked_result(result, restype)\\n    \\n    return wrapped\",\n",
       "  'add_ = static(add)',\n",
       "  'add_(2, 2.2)',\n",
       "  'class MyClass(object):\\n    cte = 42\\n    \\n    def f(self, x):\\n        return x % self.cte',\n",
       "  'class MyClass(object):\\n    cte = 42\\n    \\n    def f(self, x):\\n        return x % self.cte',\n",
       "  \"attribs = {'cte': 42, 'f': lambda self, x: x % self.cte}\\nMyClass2 = type('MyClass2', (object,), attribs)\",\n",
       "  'a = MyClass()\\nb = MyClass2()',\n",
       "  'a.f(100), b.f(100)',\n",
       "  \"from collections import Mapping\\n\\nclass Metaclass(type):\\n    def __new__(cls, name, bases, ns):\\n        ns = {k: v for k, v in ns.items() if not k.startswith('_')}\\n        return ns\\n        \\n    def __init__(self, name, bases, ns):\\n        print(f'Criando classe {name}')\\n        super().__init__(name, bases, ns)\\n        \\n    def __prepare__(name, bases):\\n        def set_variable(key, value):\\n            cls = annotations.get(key, object)\\n            \\n            if not isinstance(value, cls):\\n                raise TypeError(f'{key} is a {type(value)}, expect {cls}')\\n                \\n            if not key.startswith('_'):\\n                print(f'{key} = {value!r}')\\n        \\n        def set_annotation(key, value):\\n            print(f'{key}: {value!r}')\\n        \\n        ns = ObsDict(fset=set_variable)\\n        annotations = ns['__annotations__'] = ObsDict(fset=set_annotation)\\n        return ns\\n        \\n\\nclass ObsDict(dict):\\n    def __init__(self, fset=lambda k, v: None, fget=lambda k: None):\\n        self.fget = fget\\n        self.fset = fset\\n        \\n    def __setitem__(self, key, value):\\n        self.fset(key, value)\\n        dict.__setitem__(self, key, value)\\n        \\n    def __getitem__(self, key):\\n        self.fget(key)\\n        return dict.__getitem__(self, key)\",\n",
       "  '@print\\nclass Foo(metaclass=Metaclass):\\n    x:int = 1\\n    y:int = 1\\n    for _ in range(10):\\n        x, y = y, x + y\\n        \\n    result = y',\n",
       "  'import sys\\nf = sys._getframe()',\n",
       "  'f.f_locals'],\n",
       " 'Out': {7: (16, 16),\n",
       "  12: (16, 16),\n",
       "  17: 42,\n",
       "  21: {'x': int, 'y': int, 'return': int},\n",
       "  22: (),\n",
       "  23: ('x', 'y'),\n",
       "  25: {'x': int, 'y': int, 'return': int},\n",
       "  27: [int, int],\n",
       "  29: [int, int],\n",
       "  38: 4,\n",
       "  51: (16, 16)},\n",
       " 'get_ipython': <bound method InteractiveShell.get_ipython of <ipykernel.zmqshell.ZMQInteractiveShell object at 0x7f516ecbee80>>,\n",
       " 'exit': <IPython.core.autocall.ZMQExitAutocall at 0x7f516ecb7630>,\n",
       " 'quit': <IPython.core.autocall.ZMQExitAutocall at 0x7f516ecb7630>,\n",
       " '_': (16, 16),\n",
       " '__': 4,\n",
       " '___': [int, int],\n",
       " '_i': 'import sys\\nf = sys._getframe()',\n",
       " '_ii': '@print\\nclass Foo(metaclass=Metaclass):\\n    x:int = 1\\n    y:int = 1\\n    for _ in range(10):\\n        x, y = y, x + y\\n        \\n    result = y',\n",
       " '_iii': \"from collections import Mapping\\n\\nclass Metaclass(type):\\n    def __new__(cls, name, bases, ns):\\n        ns = {k: v for k, v in ns.items() if not k.startswith('_')}\\n        return ns\\n        \\n    def __init__(self, name, bases, ns):\\n        print(f'Criando classe {name}')\\n        super().__init__(name, bases, ns)\\n        \\n    def __prepare__(name, bases):\\n        def set_variable(key, value):\\n            cls = annotations.get(key, object)\\n            \\n            if not isinstance(value, cls):\\n                raise TypeError(f'{key} is a {type(value)}, expect {cls}')\\n                \\n            if not key.startswith('_'):\\n                print(f'{key} = {value!r}')\\n        \\n        def set_annotation(key, value):\\n            print(f'{key}: {value!r}')\\n        \\n        ns = ObsDict(fset=set_variable)\\n        annotations = ns['__annotations__'] = ObsDict(fset=set_annotation)\\n        return ns\\n        \\n\\nclass ObsDict(dict):\\n    def __init__(self, fset=lambda k, v: None, fget=lambda k: None):\\n        self.fget = fget\\n        self.fset = fset\\n        \\n    def __setitem__(self, key, value):\\n        self.fset(key, value)\\n        dict.__setitem__(self, key, value)\\n        \\n    def __getitem__(self, key):\\n        self.fget(key)\\n        return dict.__getitem__(self, key)\",\n",
       " '_i1': 'class MyClass(object):\\n    cte = 42\\n    \\n    def mod(self, x):\\n        return x % self.cte',\n",
       " 'MyClass': __main__.MyClass,\n",
       " '_i2': 'class MyClass(object):\\n    cte = 42\\n    \\n    def mod(self, x):\\n        return x % self.cte',\n",
       " '_i3': 'class MyClass(object):\\n    cte = 42\\n    \\n    def mod(self, x):\\n        return x % self.cte',\n",
       " '_i4': 'class MyClass(object):\\n    cte = 42\\n    \\n    def mod(self, x):\\n        return x % self.cte',\n",
       " '_i5': \"attribs = {'cte': 42, 'mod': lambda self, x: x % self.cte}\\nMyClass2 = type('MyClass2', (object,), attribs)\",\n",
       " 'attribs': {'cte': 42, 'f': <function __main__.<lambda>(self, x)>},\n",
       " 'MyClass2': __main__.MyClass2,\n",
       " '_i6': 'a = MyClass()\\nb = MyClass2()',\n",
       " 'a': <__main__.MyClass at 0x7f516c2622e8>,\n",
       " 'b': <__main__.MyClass2 at 0x7f516c262e10>,\n",
       " '_i7': 'a.mod(100), b.mod(100)',\n",
       " '_7': (16, 16),\n",
       " '_i8': \"attribs = {'cte': 42, 'f': lambda self, x: x % self.cte}\\nMyClass2 = type('MyClass2', (object,), attribs)\",\n",
       " '_i9': 'class MyClass(object):\\n    cte = 42\\n    \\n    def f(self, x):\\n        return x % self.cte',\n",
       " '_i10': \"attribs = {'cte': 42, 'f': lambda self, x: x % self.cte}\\nMyClass2 = type('MyClass2', (object,), attribs)\",\n",
       " '_i11': 'a = MyClass()\\nb = MyClass2()',\n",
       " '_i12': 'a.f(100), b.f(100)',\n",
       " '_12': (16, 16),\n",
       " '_i13': \"from collections import Mapping\\n\\nclass Metaclass(type):\\n    def __new__(cls, name, bases, ns):\\n        ns = {k: v for k, v in ns.items() if not k.startswith('_')}\\n        return ns\\n        \\n    def __init__(self, name, bases, ns):\\n        print(f'Criando classe {name}')\\n        super().__init__(name, bases, ns)\\n        \\n    def __prepare__(name, bases):\\n        def set_variable(key, value):\\n            cls = annotations.get(key, object)\\n            \\n            if not isinstance(value, cls):\\n                raise TypeError(f'{key} is a {type(value)}, expect {cls}')\\n                \\n            if not key.startswith('_'):\\n                print(f'{key} = {value!r}')\\n        \\n        def set_annotation(key, value):\\n            print(f'{key}: {value!r}')\\n        \\n        ns = ObsDict(fset=set_variable)\\n        annotations = ns['__annotations__'] = ObsDict(fset=set_annotation)\\n        return ns\\n        \\n\\nclass ObsDict(dict):\\n    def __init__(self, fset=lambda k, v: None, fget=lambda k: None):\\n        self.fget = fget\\n        self.fset = fset\\n        \\n    def __setitem__(self, key, value):\\n        self.fset(key, value)\\n        dict.__setitem__(self, key, value)\\n        \\n    def __getitem__(self, key):\\n        self.fget(key)\\n        return dict.__getitem__(self, key)\",\n",
       " 'Mapping': collections.abc.Mapping,\n",
       " 'Metaclass': __main__.Metaclass,\n",
       " 'ObsDict': __main__.ObsDict,\n",
       " '_i14': '@call_with()\\ndef the_answer():\\n    return 42',\n",
       " '_i15': 'def call_with(*args, **kwargs):\\n    def decorator(func):\\n        return func(*args, **kwargs)\\n    return decorator',\n",
       " 'call_with': <function __main__.call_with(*args, **kwargs)>,\n",
       " '_i16': '@call_with()\\ndef the_answer():\\n    return 42',\n",
       " 'the_answer': 42,\n",
       " '_i17': '@call_with()\\ndef the_answer():\\n    return 42\\n\\nthe_answer',\n",
       " '_17': 42,\n",
       " '_i18': 'def add(x: int, y: int) -> int:\\n    return x + y',\n",
       " 'add': <function __main__.add(x: int, y: int) -> int>,\n",
       " '_i19': 'import inspect\\n\\nsig = inspect.signature(add)\\nprint(sg)',\n",
       " 'inspect': <module 'inspect' from '/usr/lib/python3.7/inspect.py'>,\n",
       " 'sig': <Signature (x: int, y: int) -> int>,\n",
       " '_i20': 'import inspect\\n\\nsig = inspect.signature(add)\\nprint(sig)',\n",
       " '_i21': 'add.__annotations__',\n",
       " '_21': {'x': int, 'y': int, 'return': int},\n",
       " '_i22': 'add.__code__.co_names',\n",
       " '_22': (),\n",
       " '_i23': 'add.__code__.co_varnames',\n",
       " '_23': ('x', 'y'),\n",
       " '_i24': 'def add(x: int, y: int) -> int:\\n    return x + y\\n\\nadd.__signature__',\n",
       " '_i25': 'def add(x: int, y: int) -> int:\\n    return x + y\\n\\nadd.__annotations__',\n",
       " '_25': {'x': int, 'y': int, 'return': int},\n",
       " '_i26': 'def check_input(types, args):\\n    for x, tt in zip(args, types):\\n        if not isinstance(x, tt):\\n            raise TypeError\\n            \\ninput_types = [add.__annotations__[k] for k in add.__code__.co_varnames]',\n",
       " 'check_input': <function __main__.check_input(args, types)>,\n",
       " 'input_types': [int, int],\n",
       " '_i27': 'def check_input(types, args):\\n    for x, tt in zip(args, types):\\n        if not isinstance(x, tt):\\n            raise TypeError\\n            \\n[add.__annotations__[k] for k in add.__code__.co_varnames]',\n",
       " '_27': [int, int],\n",
       " '_i28': \"import functools\\n\\ndef check_types(func):\\n    if not func.__annotations__:\\n        return func\\n    \\n    sig = inspect.signature(func)\\n    argtypes = tuple(p.annotation for p in sig.parameters.values())\\n    restype = sig.return_annotation\\n    \\n    @functools.wraps(func)\\n    def wrapped(*args):\\n        if not all(isinstance(x, tt) for (x, tt) in zip(args, argtypes)):\\n            raise TypeError(f'invalid input args: {args}')\\n        result = func(*args)\\n        if not isinstance(result, restype):\\n            raise TypeError(f'invalid result type: {restype}')\\n        return result\\n    \\n    return wrapped\",\n",
       " 'functools': <module 'functools' from '/usr/lib/python3.7/functools.py'>,\n",
       " 'check_types': <function __main__.check_types(func)>,\n",
       " '_i29': 'def check_input(types, args):\\n    for x, tt in zip(args, types):\\n        if not isinstance(x, tt):\\n            raise TypeError\\n \\nfunc = add\\n[func.__annotations__[k] for k in func.__code__.co_varnames]',\n",
       " 'func': <function __main__.add(x: int, y: int) -> int>,\n",
       " '_29': [int, int],\n",
       " '_i30': \"def check_input(args, types):\\n    for x, tt in zip(args, types):\\n        if not isinstance(x, tt):\\n            raise TypeError\\n\\ndef checked_result(value, tt):\\n    if not isinstance(value, tt):\\n        raise TypeError\\n    return value\\n            \\ntypes = [func.__annotations__[k] for k in func.__code__.co_varnames]\\nrestype = func.__anotations__.get('result', object)\\n\\ndef wrapped(*args):\\n    check_input(args, types)\\n    result = func(*args)\\n    return checked_result(result, restype)\",\n",
       " 'checked_result': <function __main__.checked_result(value, tt)>,\n",
       " 'types': [int, int],\n",
       " '_i31': \"def check_input(args, types):\\n    for x, tt in zip(args, types):\\n        if not isinstance(x, tt):\\n            raise TypeError\\n\\ndef checked_result(value, tt):\\n    if not isinstance(value, tt):\\n        raise TypeError\\n    return value\\n            \\ntypes = [func.__annotations__[k] for k in func.__code__.co_varnames]\\nrestype = func.__annotations__.get('result', object)\\n\\ndef wrapped(*args):\\n    check_input(args, types)\\n    result = func(*args)\\n    return checked_result(result, restype)\",\n",
       " 'restype': object,\n",
       " 'wrapped': <function __main__.wrapped(*args)>,\n",
       " '_i32': \"def check_input(args, types):\\n    for x, tt in zip(args, types):\\n        if not isinstance(x, tt):\\n            raise TypeError\\n\\ndef checked_result(value, tt):\\n    if not isinstance(value, tt):\\n        raise TypeError\\n    return value\\n            \\n    \\ndef static(func):\\n    types = [func.__annotations__[k] for k in func.__code__.co_varnames]\\n    restype = func.__annotations__.get('result', object)\\n\\n    def wrapped(*args):\\n        check_input(args, types)\\n        result = func(*args)\\n        return checked_result(result, restype)\\n    \\n    return static\",\n",
       " 'static': <function __main__.static(func)>,\n",
       " '_i33': 'add_ = static(add)',\n",
       " 'add_': <function __main__.static.<locals>.wrapped(*args)>,\n",
       " '_i34': 'add_(2.3, 2)',\n",
       " '_i35': 'add_(2, 2)',\n",
       " '_i36': \"def check_input(args, types):\\n    for x, tt in zip(args, types):\\n        if not isinstance(x, tt):\\n            raise TypeError\\n\\ndef checked_result(value, tt):\\n    if not isinstance(value, tt):\\n        raise TypeError\\n    return value\\n            \\n    \\ndef static(func):\\n    types = [func.__annotations__[k] for k in func.__code__.co_varnames]\\n    restype = func.__annotations__.get('result', object)\\n\\n    def wrapped(*args):\\n        check_input(args, types)\\n        result = func(*args)\\n        return checked_result(result, restype)\\n    \\n    return wrapped\",\n",
       " '_i37': 'add_ = static(add)',\n",
       " '_i38': 'add_(2, 2)',\n",
       " '_38': 4,\n",
       " '_i39': 'add_(2, 2.2)',\n",
       " '_i40': \"def check_input(args, types):\\n    for x, tt in zip(args, types):\\n        if not isinstance(x, tt):\\n            raise TypeError(f'expect {x.__class__.__name__}, got {tt.__name__}')\\n\\ndef checked_result(value, tt):\\n    if not isinstance(value, tt):\\n        raise TypeError\\n    return value\\n            \\n    \\ndef static(func):\\n    types = [func.__annotations__[k] for k in func.__code__.co_varnames]\\n    restype = func.__annotations__.get('result', object)\\n\\n    def wrapped(*args):\\n        check_input(args, types)\\n        result = func(*args)\\n        return checked_result(result, restype)\\n    \\n    return wrapped\",\n",
       " '_i41': 'add_ = static(add)',\n",
       " '_i42': 'add_(2, 2.2)',\n",
       " '_i43': 'add_(2, 2.2)',\n",
       " '_i44': \"def check_input(args, types):\\n    for x, tt in zip(args, types):\\n        if not isinstance(x, tt):\\n            raise TypeError(f'got {x.__class__.__name__}, expect {tt.__name__}')\\n\\ndef checked_result(value, tt):\\n    if not isinstance(value, tt):\\n        raise TypeError\\n    return value\\n            \\n    \\ndef static(func):\\n    types = [func.__annotations__[k] for k in func.__code__.co_varnames]\\n    restype = func.__annotations__.get('result', object)\\n\\n    def wrapped(*args):\\n        check_input(args, types)\\n        result = func(*args)\\n        return checked_result(result, restype)\\n    \\n    return wrapped\",\n",
       " '_i45': 'add_ = static(add)',\n",
       " '_i46': 'add_(2, 2.2)',\n",
       " '_i47': 'class MyClass(object):\\n    cte = 42\\n    \\n    def f(self, x):\\n        return x % self.cte',\n",
       " '_i48': 'class MyClass(object):\\n    cte = 42\\n    \\n    def f(self, x):\\n        return x % self.cte',\n",
       " '_i49': \"attribs = {'cte': 42, 'f': lambda self, x: x % self.cte}\\nMyClass2 = type('MyClass2', (object,), attribs)\",\n",
       " '_i50': 'a = MyClass()\\nb = MyClass2()',\n",
       " '_i51': 'a.f(100), b.f(100)',\n",
       " '_51': (16, 16),\n",
       " '_i52': \"from collections import Mapping\\n\\nclass Metaclass(type):\\n    def __new__(cls, name, bases, ns):\\n        ns = {k: v for k, v in ns.items() if not k.startswith('_')}\\n        return ns\\n        \\n    def __init__(self, name, bases, ns):\\n        print(f'Criando classe {name}')\\n        super().__init__(name, bases, ns)\\n        \\n    def __prepare__(name, bases):\\n        def set_variable(key, value):\\n            cls = annotations.get(key, object)\\n            \\n            if not isinstance(value, cls):\\n                raise TypeError(f'{key} is a {type(value)}, expect {cls}')\\n                \\n            if not key.startswith('_'):\\n                print(f'{key} = {value!r}')\\n        \\n        def set_annotation(key, value):\\n            print(f'{key}: {value!r}')\\n        \\n        ns = ObsDict(fset=set_variable)\\n        annotations = ns['__annotations__'] = ObsDict(fset=set_annotation)\\n        return ns\\n        \\n\\nclass ObsDict(dict):\\n    def __init__(self, fset=lambda k, v: None, fget=lambda k: None):\\n        self.fget = fget\\n        self.fset = fset\\n        \\n    def __setitem__(self, key, value):\\n        self.fset(key, value)\\n        dict.__setitem__(self, key, value)\\n        \\n    def __getitem__(self, key):\\n        self.fget(key)\\n        return dict.__getitem__(self, key)\",\n",
       " '_i53': '@print\\nclass Foo(metaclass=Metaclass):\\n    x:int = 1\\n    y:int = 1\\n    for _ in range(10):\\n        x, y = y, x + y\\n        \\n    result = y',\n",
       " 'Foo': None,\n",
       " '_i54': 'import sys\\nf = sys._getframe()',\n",
       " 'sys': <module 'sys' (built-in)>,\n",
       " 'f': <frame at 0x55d4c1fbd4b8, file '<ipython-input-54-d4b6359c39fa>', line 2, code <module>>,\n",
       " '_i55': 'f.f_locals'}"
      ]
     },
     "execution_count": 55,
     "metadata": {},
     "output_type": "execute_result"
    }
   ],
   "source": [
    "f.f_locals"
   ]
  },
  {
   "cell_type": "code",
   "execution_count": 165,
   "metadata": {
    "hideCode": false,
    "hidePrompt": false
   },
   "outputs": [],
   "source": [
    "def add(x: int, y: int) -> int:\n",
    "    return x + y"
   ]
  },
  {
   "cell_type": "code",
   "execution_count": 56,
   "metadata": {
    "hideCode": false,
    "hidePrompt": false
   },
   "outputs": [],
   "source": [
    "from typing import List"
   ]
  },
  {
   "cell_type": "code",
   "execution_count": 167,
   "metadata": {
    "hideCode": false,
    "hidePrompt": false
   },
   "outputs": [],
   "source": [
    "add_ = check_types(add)"
   ]
  },
  {
   "cell_type": "code",
   "execution_count": 57,
   "metadata": {
    "hideCode": false,
    "hidePrompt": false
   },
   "outputs": [
    {
     "ename": "TypeError",
     "evalue": "Subscripted generics cannot be used with class and instance checks",
     "output_type": "error",
     "traceback": [
      "\u001b[0;31m---------------------------------------------------------------------------\u001b[0m",
      "\u001b[0;31mTypeError\u001b[0m                                 Traceback (most recent call last)",
      "\u001b[0;32m<ipython-input-57-21b9ff6885fe>\u001b[0m in \u001b[0;36m<module>\u001b[0;34m()\u001b[0m\n\u001b[0;32m----> 1\u001b[0;31m \u001b[0misinstance\u001b[0m\u001b[0;34m(\u001b[0m\u001b[0;34m[\u001b[0m\u001b[0;36m1\u001b[0m\u001b[0;34m,\u001b[0m\u001b[0;36m2\u001b[0m\u001b[0;34m,\u001b[0m\u001b[0;36m3\u001b[0m\u001b[0;34m]\u001b[0m\u001b[0;34m,\u001b[0m \u001b[0mList\u001b[0m\u001b[0;34m[\u001b[0m\u001b[0mint\u001b[0m\u001b[0;34m]\u001b[0m\u001b[0;34m)\u001b[0m\u001b[0;34m\u001b[0m\u001b[0m\n\u001b[0m",
      "\u001b[0;32m/usr/lib/python3.7/typing.py\u001b[0m in \u001b[0;36m__instancecheck__\u001b[0;34m(self, obj)\u001b[0m\n\u001b[1;32m    706\u001b[0m \u001b[0;34m\u001b[0m\u001b[0m\n\u001b[1;32m    707\u001b[0m     \u001b[0;32mdef\u001b[0m \u001b[0m__instancecheck__\u001b[0m\u001b[0;34m(\u001b[0m\u001b[0mself\u001b[0m\u001b[0;34m,\u001b[0m \u001b[0mobj\u001b[0m\u001b[0;34m)\u001b[0m\u001b[0;34m:\u001b[0m\u001b[0;34m\u001b[0m\u001b[0m\n\u001b[0;32m--> 708\u001b[0;31m         \u001b[0;32mreturn\u001b[0m \u001b[0mself\u001b[0m\u001b[0;34m.\u001b[0m\u001b[0m__subclasscheck__\u001b[0m\u001b[0;34m(\u001b[0m\u001b[0mtype\u001b[0m\u001b[0;34m(\u001b[0m\u001b[0mobj\u001b[0m\u001b[0;34m)\u001b[0m\u001b[0;34m)\u001b[0m\u001b[0;34m\u001b[0m\u001b[0m\n\u001b[0m\u001b[1;32m    709\u001b[0m \u001b[0;34m\u001b[0m\u001b[0m\n\u001b[1;32m    710\u001b[0m     \u001b[0;32mdef\u001b[0m \u001b[0m__subclasscheck__\u001b[0m\u001b[0;34m(\u001b[0m\u001b[0mself\u001b[0m\u001b[0;34m,\u001b[0m \u001b[0mcls\u001b[0m\u001b[0;34m)\u001b[0m\u001b[0;34m:\u001b[0m\u001b[0;34m\u001b[0m\u001b[0m\n",
      "\u001b[0;32m/usr/lib/python3.7/typing.py\u001b[0m in \u001b[0;36m__subclasscheck__\u001b[0;34m(self, cls)\u001b[0m\n\u001b[1;32m    714\u001b[0m             \u001b[0;32mif\u001b[0m \u001b[0mcls\u001b[0m\u001b[0;34m.\u001b[0m\u001b[0m_special\u001b[0m\u001b[0;34m:\u001b[0m\u001b[0;34m\u001b[0m\u001b[0m\n\u001b[1;32m    715\u001b[0m                 \u001b[0;32mreturn\u001b[0m \u001b[0missubclass\u001b[0m\u001b[0;34m(\u001b[0m\u001b[0mcls\u001b[0m\u001b[0;34m.\u001b[0m\u001b[0m__origin__\u001b[0m\u001b[0;34m,\u001b[0m \u001b[0mself\u001b[0m\u001b[0;34m.\u001b[0m\u001b[0m__origin__\u001b[0m\u001b[0;34m)\u001b[0m\u001b[0;34m\u001b[0m\u001b[0m\n\u001b[0;32m--> 716\u001b[0;31m         raise TypeError(\"Subscripted generics cannot be used with\"\n\u001b[0m\u001b[1;32m    717\u001b[0m                         \" class and instance checks\")\n\u001b[1;32m    718\u001b[0m \u001b[0;34m\u001b[0m\u001b[0m\n",
      "\u001b[0;31mTypeError\u001b[0m: Subscripted generics cannot be used with class and instance checks"
     ]
    }
   ],
   "source": [
    "isinstance([1,2,3], List[int])"
   ]
  },
  {
   "cell_type": "code",
   "execution_count": 62,
   "metadata": {
    "hideCode": false,
    "hidePrompt": false
   },
   "outputs": [
    {
     "data": {
      "text/plain": [
       "[typing._GenericAlias, typing._Final, object]"
      ]
     },
     "execution_count": 62,
     "metadata": {},
     "output_type": "execute_result"
    }
   ],
   "source": [
    "type(List[int]).mro()"
   ]
  },
  {
   "cell_type": "code",
   "execution_count": 64,
   "metadata": {
    "hideCode": false,
    "hidePrompt": false
   },
   "outputs": [
    {
     "data": {
      "text/plain": [
       "False"
      ]
     },
     "execution_count": 64,
     "metadata": {},
     "output_type": "execute_result"
    }
   ],
   "source": [
    "isinstance(List[int], type)"
   ]
  },
  {
   "cell_type": "code",
   "execution_count": 70,
   "metadata": {
    "hideCode": false,
    "hidePrompt": false
   },
   "outputs": [
    {
     "ename": "TypeError",
     "evalue": "Subscripted generics cannot be used with class and instance checks",
     "output_type": "error",
     "traceback": [
      "\u001b[0;31m---------------------------------------------------------------------------\u001b[0m",
      "\u001b[0;31mTypeError\u001b[0m                                 Traceback (most recent call last)",
      "\u001b[0;32m<ipython-input-70-80308a35f56f>\u001b[0m in \u001b[0;36m<module>\u001b[0;34m()\u001b[0m\n\u001b[1;32m      1\u001b[0m \u001b[0mmeta\u001b[0m \u001b[0;34m=\u001b[0m \u001b[0mtype\u001b[0m\u001b[0;34m(\u001b[0m\u001b[0mList\u001b[0m\u001b[0;34m[\u001b[0m\u001b[0mint\u001b[0m\u001b[0;34m]\u001b[0m\u001b[0;34m)\u001b[0m\u001b[0;34m\u001b[0m\u001b[0m\n\u001b[0;32m----> 2\u001b[0;31m \u001b[0mList\u001b[0m\u001b[0;34m[\u001b[0m\u001b[0mint\u001b[0m\u001b[0;34m]\u001b[0m\u001b[0;34m.\u001b[0m\u001b[0m__instancecheck__\u001b[0m\u001b[0;34m(\u001b[0m\u001b[0;34m[\u001b[0m\u001b[0;36m1\u001b[0m\u001b[0;34m,\u001b[0m\u001b[0;36m2\u001b[0m\u001b[0;34m,\u001b[0m\u001b[0;36m3\u001b[0m\u001b[0;34m]\u001b[0m\u001b[0;34m)\u001b[0m\u001b[0;34m\u001b[0m\u001b[0m\n\u001b[0m",
      "\u001b[0;32m/usr/lib/python3.7/typing.py\u001b[0m in \u001b[0;36m__instancecheck__\u001b[0;34m(self, obj)\u001b[0m\n\u001b[1;32m    706\u001b[0m \u001b[0;34m\u001b[0m\u001b[0m\n\u001b[1;32m    707\u001b[0m     \u001b[0;32mdef\u001b[0m \u001b[0m__instancecheck__\u001b[0m\u001b[0;34m(\u001b[0m\u001b[0mself\u001b[0m\u001b[0;34m,\u001b[0m \u001b[0mobj\u001b[0m\u001b[0;34m)\u001b[0m\u001b[0;34m:\u001b[0m\u001b[0;34m\u001b[0m\u001b[0m\n\u001b[0;32m--> 708\u001b[0;31m         \u001b[0;32mreturn\u001b[0m \u001b[0mself\u001b[0m\u001b[0;34m.\u001b[0m\u001b[0m__subclasscheck__\u001b[0m\u001b[0;34m(\u001b[0m\u001b[0mtype\u001b[0m\u001b[0;34m(\u001b[0m\u001b[0mobj\u001b[0m\u001b[0;34m)\u001b[0m\u001b[0;34m)\u001b[0m\u001b[0;34m\u001b[0m\u001b[0m\n\u001b[0m\u001b[1;32m    709\u001b[0m \u001b[0;34m\u001b[0m\u001b[0m\n\u001b[1;32m    710\u001b[0m     \u001b[0;32mdef\u001b[0m \u001b[0m__subclasscheck__\u001b[0m\u001b[0;34m(\u001b[0m\u001b[0mself\u001b[0m\u001b[0;34m,\u001b[0m \u001b[0mcls\u001b[0m\u001b[0;34m)\u001b[0m\u001b[0;34m:\u001b[0m\u001b[0;34m\u001b[0m\u001b[0m\n",
      "\u001b[0;32m/usr/lib/python3.7/typing.py\u001b[0m in \u001b[0;36m__subclasscheck__\u001b[0;34m(self, cls)\u001b[0m\n\u001b[1;32m    714\u001b[0m             \u001b[0;32mif\u001b[0m \u001b[0mcls\u001b[0m\u001b[0;34m.\u001b[0m\u001b[0m_special\u001b[0m\u001b[0;34m:\u001b[0m\u001b[0;34m\u001b[0m\u001b[0m\n\u001b[1;32m    715\u001b[0m                 \u001b[0;32mreturn\u001b[0m \u001b[0missubclass\u001b[0m\u001b[0;34m(\u001b[0m\u001b[0mcls\u001b[0m\u001b[0;34m.\u001b[0m\u001b[0m__origin__\u001b[0m\u001b[0;34m,\u001b[0m \u001b[0mself\u001b[0m\u001b[0;34m.\u001b[0m\u001b[0m__origin__\u001b[0m\u001b[0;34m)\u001b[0m\u001b[0;34m\u001b[0m\u001b[0m\n\u001b[0;32m--> 716\u001b[0;31m         raise TypeError(\"Subscripted generics cannot be used with\"\n\u001b[0m\u001b[1;32m    717\u001b[0m                         \" class and instance checks\")\n\u001b[1;32m    718\u001b[0m \u001b[0;34m\u001b[0m\u001b[0m\n",
      "\u001b[0;31mTypeError\u001b[0m: Subscripted generics cannot be used with class and instance checks"
     ]
    }
   ],
   "source": [
    "meta = type(List[int])\n",
    "List[int].__instancecheck__([1,2,3])"
   ]
  },
  {
   "cell_type": "code",
   "execution_count": 104,
   "metadata": {},
   "outputs": [],
   "source": [
    "def linstancecheck(lst_type, lst):\n",
    "    tt = lst_type.__args__[0]\n",
    "    return isinstance(lst, list) and all(isinstance(x, tt) for x in lst)"
   ]
  },
  {
   "cell_type": "code",
   "execution_count": 105,
   "metadata": {},
   "outputs": [
    {
     "ename": "AttributeError",
     "evalue": "'list' object has no attribute '__args__'",
     "output_type": "error",
     "traceback": [
      "\u001b[0;31m---------------------------------------------------------------------------\u001b[0m",
      "\u001b[0;31mAttributeError\u001b[0m                            Traceback (most recent call last)",
      "\u001b[0;32m<ipython-input-105-3edc2adbd5d1>\u001b[0m in \u001b[0;36m<module>\u001b[0;34m()\u001b[0m\n\u001b[0;32m----> 1\u001b[0;31m \u001b[0mlinstancecheck\u001b[0m\u001b[0;34m(\u001b[0m\u001b[0;34m[\u001b[0m\u001b[0;36m1\u001b[0m\u001b[0;34m,\u001b[0m\u001b[0;36m2\u001b[0m\u001b[0;34m,\u001b[0m\u001b[0;36m3\u001b[0m\u001b[0;34m]\u001b[0m\u001b[0;34m,\u001b[0m \u001b[0mList\u001b[0m\u001b[0;34m[\u001b[0m\u001b[0mint\u001b[0m\u001b[0;34m]\u001b[0m\u001b[0;34m)\u001b[0m\u001b[0;34m\u001b[0m\u001b[0m\n\u001b[0m",
      "\u001b[0;32m<ipython-input-104-5d1a23dc8e9c>\u001b[0m in \u001b[0;36mlinstancecheck\u001b[0;34m(lst_type, lst)\u001b[0m\n\u001b[1;32m      1\u001b[0m \u001b[0;32mdef\u001b[0m \u001b[0mlinstancecheck\u001b[0m\u001b[0;34m(\u001b[0m\u001b[0mlst_type\u001b[0m\u001b[0;34m,\u001b[0m \u001b[0mlst\u001b[0m\u001b[0;34m)\u001b[0m\u001b[0;34m:\u001b[0m\u001b[0;34m\u001b[0m\u001b[0m\n\u001b[0;32m----> 2\u001b[0;31m     \u001b[0mtt\u001b[0m \u001b[0;34m=\u001b[0m \u001b[0mlst_type\u001b[0m\u001b[0;34m.\u001b[0m\u001b[0m__args__\u001b[0m\u001b[0;34m[\u001b[0m\u001b[0;36m0\u001b[0m\u001b[0;34m]\u001b[0m\u001b[0;34m\u001b[0m\u001b[0m\n\u001b[0m\u001b[1;32m      3\u001b[0m     \u001b[0;32mreturn\u001b[0m \u001b[0misinstance\u001b[0m\u001b[0;34m(\u001b[0m\u001b[0mlst\u001b[0m\u001b[0;34m,\u001b[0m \u001b[0mlist\u001b[0m\u001b[0;34m)\u001b[0m \u001b[0;32mand\u001b[0m \u001b[0mall\u001b[0m\u001b[0;34m(\u001b[0m\u001b[0misinstance\u001b[0m\u001b[0;34m(\u001b[0m\u001b[0mx\u001b[0m\u001b[0;34m,\u001b[0m \u001b[0mtt\u001b[0m\u001b[0;34m)\u001b[0m \u001b[0;32mfor\u001b[0m \u001b[0mx\u001b[0m \u001b[0;32min\u001b[0m \u001b[0mlst\u001b[0m\u001b[0;34m)\u001b[0m\u001b[0;34m\u001b[0m\u001b[0m\n",
      "\u001b[0;31mAttributeError\u001b[0m: 'list' object has no attribute '__args__'"
     ]
    }
   ],
   "source": [
    "linstancecheck([1,2,3], List[int])"
   ]
  },
  {
   "cell_type": "code",
   "execution_count": 106,
   "metadata": {},
   "outputs": [],
   "source": [
    "type(List).__instancecheck__ = linstancecheck"
   ]
  },
  {
   "cell_type": "code",
   "execution_count": 107,
   "metadata": {},
   "outputs": [
    {
     "data": {
      "text/plain": [
       "int"
      ]
     },
     "execution_count": 107,
     "metadata": {},
     "output_type": "execute_result"
    }
   ],
   "source": [
    "x.__args__[0]"
   ]
  },
  {
   "cell_type": "code",
   "execution_count": 108,
   "metadata": {},
   "outputs": [
    {
     "data": {
      "text/plain": [
       "True"
      ]
     },
     "execution_count": 108,
     "metadata": {},
     "output_type": "execute_result"
    }
   ],
   "source": [
    "isinstance([1,2,3], List[int])"
   ]
  },
  {
   "cell_type": "code",
   "execution_count": null,
   "metadata": {},
   "outputs": [],
   "source": []
  }
 ],
 "metadata": {
  "hide_code_all_hidden": false,
  "kernelspec": {
   "display_name": "Python 3",
   "language": "python",
   "name": "python3"
  },
  "language_info": {
   "codemirror_mode": {
    "name": "ipython",
    "version": 3
   },
   "file_extension": ".py",
   "mimetype": "text/x-python",
   "name": "python",
   "nbconvert_exporter": "python",
   "pygments_lexer": "ipython3",
   "version": "3.7.0"
  }
 },
 "nbformat": 4,
 "nbformat_minor": 2
}
